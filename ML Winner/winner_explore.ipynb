{
 "cells": [
  {
   "cell_type": "code",
   "execution_count": 1,
   "metadata": {},
   "outputs": [
    {
     "data": {
      "text/html": [
       "<div>\n",
       "<style scoped>\n",
       "    .dataframe tbody tr th:only-of-type {\n",
       "        vertical-align: middle;\n",
       "    }\n",
       "\n",
       "    .dataframe tbody tr th {\n",
       "        vertical-align: top;\n",
       "    }\n",
       "\n",
       "    .dataframe thead th {\n",
       "        text-align: right;\n",
       "    }\n",
       "</style>\n",
       "<table border=\"1\" class=\"dataframe\">\n",
       "  <thead>\n",
       "    <tr style=\"text-align: right;\">\n",
       "      <th></th>\n",
       "      <th>winner</th>\n",
       "      <th>totalDamageDealt_team1</th>\n",
       "      <th>teamKd_team1</th>\n",
       "      <th>accuracy_team1</th>\n",
       "      <th>rotationalPercent_team1</th>\n",
       "      <th>fbPerc_team1</th>\n",
       "      <th>mode</th>\n",
       "      <th>totalDamageDealt_team2</th>\n",
       "      <th>teamKd_team2</th>\n",
       "      <th>accuracy_team2</th>\n",
       "      <th>rotationalPercent_team2</th>\n",
       "      <th>fbPerc_team2</th>\n",
       "    </tr>\n",
       "  </thead>\n",
       "  <tbody>\n",
       "    <tr>\n",
       "      <th>57</th>\n",
       "      <td>team1</td>\n",
       "      <td>12090.0</td>\n",
       "      <td>1.010000</td>\n",
       "      <td>0.301236</td>\n",
       "      <td>0.217822</td>\n",
       "      <td>0.000000</td>\n",
       "      <td>CDL Hardpoint</td>\n",
       "      <td>11915.0</td>\n",
       "      <td>0.990099</td>\n",
       "      <td>0.288724</td>\n",
       "      <td>0.260000</td>\n",
       "      <td>0.002024</td>\n",
       "    </tr>\n",
       "    <tr>\n",
       "      <th>328</th>\n",
       "      <td>team1</td>\n",
       "      <td>10096.0</td>\n",
       "      <td>1.135135</td>\n",
       "      <td>0.199179</td>\n",
       "      <td>0.202381</td>\n",
       "      <td>0.000000</td>\n",
       "      <td>CDL Hardpoint</td>\n",
       "      <td>9683.0</td>\n",
       "      <td>0.880952</td>\n",
       "      <td>0.271089</td>\n",
       "      <td>0.256757</td>\n",
       "      <td>0.002398</td>\n",
       "    </tr>\n",
       "    <tr>\n",
       "      <th>364</th>\n",
       "      <td>team1</td>\n",
       "      <td>10931.0</td>\n",
       "      <td>1.060976</td>\n",
       "      <td>0.271995</td>\n",
       "      <td>0.195402</td>\n",
       "      <td>0.002041</td>\n",
       "      <td>CDL Hardpoint</td>\n",
       "      <td>10520.0</td>\n",
       "      <td>0.942529</td>\n",
       "      <td>0.302548</td>\n",
       "      <td>0.231707</td>\n",
       "      <td>0.000000</td>\n",
       "    </tr>\n",
       "    <tr>\n",
       "      <th>389</th>\n",
       "      <td>team1</td>\n",
       "      <td>3473.0</td>\n",
       "      <td>1.526316</td>\n",
       "      <td>0.268692</td>\n",
       "      <td>0.000000</td>\n",
       "      <td>0.750000</td>\n",
       "      <td>CDL SnD</td>\n",
       "      <td>2580.0</td>\n",
       "      <td>0.655172</td>\n",
       "      <td>0.223558</td>\n",
       "      <td>0.000000</td>\n",
       "      <td>0.250000</td>\n",
       "    </tr>\n",
       "    <tr>\n",
       "      <th>396</th>\n",
       "      <td>team2</td>\n",
       "      <td>10893.0</td>\n",
       "      <td>1.000000</td>\n",
       "      <td>0.283071</td>\n",
       "      <td>0.179775</td>\n",
       "      <td>0.002146</td>\n",
       "      <td>CDL Hardpoint</td>\n",
       "      <td>11283.0</td>\n",
       "      <td>1.000000</td>\n",
       "      <td>0.276412</td>\n",
       "      <td>0.247191</td>\n",
       "      <td>0.000000</td>\n",
       "    </tr>\n",
       "  </tbody>\n",
       "</table>\n",
       "</div>"
      ],
      "text/plain": [
       "    winner  totalDamageDealt_team1  teamKd_team1  accuracy_team1  \\\n",
       "57   team1                 12090.0      1.010000        0.301236   \n",
       "328  team1                 10096.0      1.135135        0.199179   \n",
       "364  team1                 10931.0      1.060976        0.271995   \n",
       "389  team1                  3473.0      1.526316        0.268692   \n",
       "396  team2                 10893.0      1.000000        0.283071   \n",
       "\n",
       "     rotationalPercent_team1  fbPerc_team1           mode  \\\n",
       "57                  0.217822      0.000000  CDL Hardpoint   \n",
       "328                 0.202381      0.000000  CDL Hardpoint   \n",
       "364                 0.195402      0.002041  CDL Hardpoint   \n",
       "389                 0.000000      0.750000        CDL SnD   \n",
       "396                 0.179775      0.002146  CDL Hardpoint   \n",
       "\n",
       "     totalDamageDealt_team2  teamKd_team2  accuracy_team2  \\\n",
       "57                  11915.0      0.990099        0.288724   \n",
       "328                  9683.0      0.880952        0.271089   \n",
       "364                 10520.0      0.942529        0.302548   \n",
       "389                  2580.0      0.655172        0.223558   \n",
       "396                 11283.0      1.000000        0.276412   \n",
       "\n",
       "     rotationalPercent_team2  fbPerc_team2  \n",
       "57                  0.260000      0.002024  \n",
       "328                 0.256757      0.002398  \n",
       "364                 0.231707      0.000000  \n",
       "389                 0.000000      0.250000  \n",
       "396                 0.247191      0.000000  "
      ]
     },
     "execution_count": 1,
     "metadata": {},
     "output_type": "execute_result"
    }
   ],
   "source": [
    "from predict_winner import reshape_all\n",
    "import pandas as pd\n",
    "import numpy as np\n",
    "import matplotlib.pyplot as plt\n",
    "\n",
    "data = reshape_all()\n",
    "data.sample(5)"
   ]
  },
  {
   "cell_type": "code",
   "execution_count": 2,
   "metadata": {},
   "outputs": [
    {
     "data": {
      "text/plain": [
       "{'team1': 0, 'team2': 1}"
      ]
     },
     "execution_count": 2,
     "metadata": {},
     "output_type": "execute_result"
    }
   ],
   "source": [
    "from sklearn.preprocessing import LabelEncoder\n",
    "\n",
    "label_encoder = LabelEncoder()\n",
    "\n",
    "data['winner'] = label_encoder.fit_transform(data['winner'])\n",
    "result_map = dict(zip(label_encoder.classes_, label_encoder.transform(label_encoder.classes_)))\n",
    "result_map"
   ]
  },
  {
   "cell_type": "code",
   "execution_count": 3,
   "metadata": {},
   "outputs": [],
   "source": [
    "snd = data[data['mode']=='CDL SnD'].copy()\n",
    "hp = data[data['mode']=='CDL Hardpoint'].copy()\n",
    "cl = data[data['mode']=='CDL Control'].copy()\n",
    "\n",
    "snd.drop(columns=['rotationalPercent_team1', 'rotationalPercent_team2', 'mode'], axis=1, inplace=True)\n",
    "hp.drop(columns=['fbPerc_team2', 'fbPerc_team1', 'mode'], axis=1, inplace=True)\n",
    "cl.drop(columns=['fbPerc_team2', 'fbPerc_team1', 'rotationalPercent_team1', 'rotationalPercent_team2', 'mode'], axis=1, inplace=True)\n",
    "\n",
    "snd.dropna(axis=0, how='any', inplace=True)\n",
    "snd.drop(columns=['accuracy_team1', 'accuracy_team2'], axis=1, inplace=True)\n",
    "hp.dropna(axis=0, how='any', inplace=True)\n",
    "cl.dropna(axis=0, how='any', inplace=True)"
   ]
  },
  {
   "cell_type": "code",
   "execution_count": 4,
   "metadata": {},
   "outputs": [
    {
     "name": "stdout",
     "output_type": "stream",
     "text": [
      "Train X Shape: (37, 8), Test X Shape: (150, 8)\n",
      "Train Y Shape: (37,), Test Y Shape: (150,)\n"
     ]
    }
   ],
   "source": [
    "from sklearn.ensemble import RandomForestClassifier\n",
    "from sklearn.metrics import accuracy_score, confusion_matrix, precision_score, recall_score, ConfusionMatrixDisplay\n",
    "from sklearn.model_selection import RandomizedSearchCV, train_test_split\n",
    "from scipy.stats import randint\n",
    "\n",
    "# HARPOINT MODEL\n",
    "X = hp.drop('winner', axis=1)\n",
    "y = hp['winner']\n",
    "\n",
    "trainX, testX = train_test_split(X, test_size=0.8, random_state=4)\n",
    "trainY, testY = train_test_split(y, test_size=0.8, random_state=4)\n",
    "\n",
    "print(f\"Train X Shape: {trainX.shape}, Test X Shape: {testX.shape}\\nTrain Y Shape: {trainY.shape}, Test Y Shape: {testY.shape}\")"
   ]
  },
  {
   "cell_type": "code",
   "execution_count": 5,
   "metadata": {},
   "outputs": [
    {
     "name": "stdout",
     "output_type": "stream",
     "text": [
      "Initial Accuracy: 0.7933333333333333\n"
     ]
    }
   ],
   "source": [
    "rf = RandomForestClassifier()\n",
    "rf.fit(trainX, trainY)\n",
    "y_pred = rf.predict(testX)\n",
    "accuracy = accuracy_score(testY, y_pred)\n",
    "print(f\"Initial Accuracy: {accuracy}\")"
   ]
  },
  {
   "cell_type": "code",
   "execution_count": 6,
   "metadata": {},
   "outputs": [
    {
     "data": {
      "text/plain": [
       "RandomizedSearchCV(cv=4, estimator=RandomForestClassifier(), n_iter=50,\n",
       "                   param_distributions={'max_depth': <scipy.stats._distn_infrastructure.rv_frozen object at 0x7f8d9e9a1dd8>,\n",
       "                                        'n_estimators': <scipy.stats._distn_infrastructure.rv_frozen object at 0x7f8d9e9a1eb8>})"
      ]
     },
     "execution_count": 6,
     "metadata": {},
     "output_type": "execute_result"
    }
   ],
   "source": [
    "param_dist = {'n_estimators': randint(50, 500),\n",
    "              'max_depth': randint(1,20)}\n",
    "\n",
    "rf = RandomForestClassifier()\n",
    "\n",
    "rand_search = RandomizedSearchCV(rf,\n",
    "                                 param_distributions=param_dist,\n",
    "                                 n_iter=50,\n",
    "                                 cv=4)\n",
    "\n",
    "rand_search.fit(trainX, trainY)"
   ]
  },
  {
   "cell_type": "code",
   "execution_count": 7,
   "metadata": {},
   "outputs": [
    {
     "name": "stdout",
     "output_type": "stream",
     "text": [
      "Max Depth: 11, n_estimator: 67\n"
     ]
    }
   ],
   "source": [
    "import re\n",
    "hp_md, hp_esti = [int(i) for i in re.findall(string=str(rand_search.best_estimator_), pattern='[0-9]+')]\n",
    "print(f\"Max Depth: {hp_md}, n_estimator: {hp_esti}\")\n",
    "\n"
   ]
  },
  {
   "cell_type": "code",
   "execution_count": 8,
   "metadata": {},
   "outputs": [
    {
     "data": {
      "image/png": "[encoded data removed]",
      "text/plain": [
       "<Figure size 640x480 with 2 Axes>"
      ]
     },
     "metadata": {},
     "output_type": "display_data"
    }
   ],
   "source": [
    "y_pred = rand_search.predict(testX)\n",
    "\n",
    "cm = confusion_matrix(testY, y_pred)\n",
    "ConfusionMatrixDisplay(cm).plot();"
   ]
  },
  {
   "cell_type": "code",
   "execution_count": 9,
   "metadata": {},
   "outputs": [
    {
     "name": "stdout",
     "output_type": "stream",
     "text": [
      "Precision: 0.9117647058823529\n",
      "Accuracy: 0.8333333333333334\n",
      "Recall: 0.7654320987654321\n"
     ]
    }
   ],
   "source": [
    "precision = precision_score(testY, y_pred)\n",
    "accuracy = accuracy_score(testY, y_pred)\n",
    "recall = recall_score(testY, y_pred)\n",
    "\n",
    "print(f\"Precision: {precision}\\nAccuracy: {accuracy}\\nRecall: {recall}\")"
   ]
  },
  {
   "cell_type": "code",
   "execution_count": 10,
   "metadata": {},
   "outputs": [
    {
     "data": {
      "image/png": "[encoded data removed]",
      "text/plain": [
       "<Figure size 640x480 with 1 Axes>"
      ]
     },
     "metadata": {},
     "output_type": "display_data"
    }
   ],
   "source": [
    "rf = RandomForestClassifier(max_depth=hp_md, n_estimators=hp_esti).fit(trainX, trainY)\n",
    "feature_importances = pd.Series(rf.feature_importances_, index=trainX.columns).sort_values(ascending=False)\n",
    "\n",
    "feature_importances.plot.bar();"
   ]
  },
  {
   "cell_type": "code",
   "execution_count": 11,
   "metadata": {},
   "outputs": [
    {
     "name": "stdout",
     "output_type": "stream",
     "text": [
      "Precision: 0.9219\n",
      "Accuracy: 0.82\n",
      "Recall: 0.7284\n"
     ]
    }
   ],
   "source": [
    "y_pred = rf.predict(testX)\n",
    "\n",
    "precision = precision_score(testY, y_pred).round(4)\n",
    "accuracy = accuracy_score(testY, y_pred).round(4)\n",
    "recall = recall_score(testY, y_pred).round(4)\n",
    "\n",
    "print(f\"Precision: {precision}\\nAccuracy: {accuracy}\\nRecall: {recall}\")"
   ]
  },
  {
   "attachments": {},
   "cell_type": "markdown",
   "metadata": {},
   "source": [
    "# Next, I will create a similar model for Search And Destroy"
   ]
  },
  {
   "cell_type": "code",
   "execution_count": 12,
   "metadata": {},
   "outputs": [
    {
     "name": "stdout",
     "output_type": "stream",
     "text": [
      "Initial Accuracy: 0.8706896551724138\n"
     ]
    }
   ],
   "source": [
    "X = snd.drop('winner', axis=1)\n",
    "y = snd['winner']\n",
    "\n",
    "trainX, testX = train_test_split(X, test_size=0.8, random_state=4)\n",
    "trainY, testY = train_test_split(y, test_size=0.8, random_state=4)\n",
    "\n",
    "rf = RandomForestClassifier()\n",
    "rf.fit(trainX, trainY)\n",
    "y_pred = rf.predict(testX)\n",
    "accuracy = accuracy_score(testY, y_pred)\n",
    "print(f\"Initial Accuracy: {accuracy}\")"
   ]
  },
  {
   "cell_type": "code",
   "execution_count": 13,
   "metadata": {},
   "outputs": [
    {
     "data": {
      "text/plain": [
       "RandomizedSearchCV(cv=4, estimator=RandomForestClassifier(), n_iter=50,\n",
       "                   param_distributions={'max_depth': <scipy.stats._distn_infrastructure.rv_frozen object at 0x7f8d9ee2e0b8>,\n",
       "                                        'n_estimators': <scipy.stats._distn_infrastructure.rv_frozen object at 0x7f8d9ee1d9e8>})"
      ]
     },
     "execution_count": 13,
     "metadata": {},
     "output_type": "execute_result"
    }
   ],
   "source": [
    "param_dist = {'n_estimators': randint(50,500),\n",
    "              'max_depth': randint(1,20)}\n",
    "\n",
    "rf = RandomForestClassifier()\n",
    "\n",
    "rand_search = RandomizedSearchCV(rf,\n",
    "                                 param_distributions=param_dist,\n",
    "                                 n_iter=50,\n",
    "                                 cv=4)\n",
    "\n",
    "rand_search.fit(trainX, trainY)"
   ]
  },
  {
   "cell_type": "code",
   "execution_count": 14,
   "metadata": {},
   "outputs": [
    {
     "name": "stdout",
     "output_type": "stream",
     "text": [
      "Max Depth: 4, n_estimator: 306\n"
     ]
    }
   ],
   "source": [
    "snd_md, snd_esti = [int(i) for i in re.findall(string=str(rand_search.best_estimator_), pattern='[0-9]+')]\n",
    "print(f\"Max Depth: {snd_md}, n_estimator: {snd_esti}\")\n"
   ]
  },
  {
   "cell_type": "code",
   "execution_count": 15,
   "metadata": {},
   "outputs": [
    {
     "data": {
      "image/png": "[encoded data removed]",
      "text/plain": [
       "<Figure size 640x480 with 2 Axes>"
      ]
     },
     "metadata": {},
     "output_type": "display_data"
    }
   ],
   "source": [
    "y_pred = rand_search.predict(testX)\n",
    "\n",
    "cm = confusion_matrix(testY, y_pred)\n",
    "ConfusionMatrixDisplay(cm).plot();"
   ]
  },
  {
   "cell_type": "code",
   "execution_count": 16,
   "metadata": {},
   "outputs": [
    {
     "name": "stdout",
     "output_type": "stream",
     "text": [
      "Precision: 0.9347826086956522\n",
      "Accuracy: 0.8793103448275862\n",
      "Recall: 0.7962962962962963\n"
     ]
    }
   ],
   "source": [
    "precision = precision_score(testY, y_pred)\n",
    "accuracy = accuracy_score(testY, y_pred)\n",
    "recall = recall_score(testY, y_pred)\n",
    "\n",
    "print(f\"Precision: {precision}\\nAccuracy: {accuracy}\\nRecall: {recall}\")"
   ]
  },
  {
   "cell_type": "code",
   "execution_count": 17,
   "metadata": {},
   "outputs": [
    {
     "data": {
      "image/png": "[encoded data removed]",
      "text/plain": [
       "<Figure size 640x480 with 1 Axes>"
      ]
     },
     "metadata": {},
     "output_type": "display_data"
    }
   ],
   "source": [
    "rf = RandomForestClassifier(max_depth=snd_md, n_estimators=snd_esti).fit(trainX, trainY)\n",
    "feature_importances = pd.Series(rf.feature_importances_, index=trainX.columns).sort_values(ascending=False)\n",
    "\n",
    "feature_importances.plot.bar();"
   ]
  },
  {
   "cell_type": "code",
   "execution_count": 18,
   "metadata": {},
   "outputs": [
    {
     "name": "stdout",
     "output_type": "stream",
     "text": [
      "Precision: 0.8936\n",
      "Accuracy: 0.8534\n",
      "Recall: 0.7778\n"
     ]
    }
   ],
   "source": [
    "y_pred = rf.predict(testX)\n",
    "\n",
    "precision = precision_score(testY, y_pred).round(4)\n",
    "accuracy = accuracy_score(testY, y_pred).round(4)\n",
    "recall = recall_score(testY, y_pred).round(4)\n",
    "\n",
    "print(f\"Precision: {precision}\\nAccuracy: {accuracy}\\nRecall: {recall}\")"
   ]
  },
  {
   "attachments": {},
   "cell_type": "markdown",
   "metadata": {},
   "source": [
    "# Finally, Control"
   ]
  },
  {
   "cell_type": "code",
   "execution_count": 19,
   "metadata": {},
   "outputs": [
    {
     "name": "stdout",
     "output_type": "stream",
     "text": [
      "Initial Accuracy: 0.8571428571428571\n"
     ]
    }
   ],
   "source": [
    "X = cl.drop('winner', axis=1)\n",
    "y = cl['winner']\n",
    "\n",
    "trainX, testX = train_test_split(X, test_size=0.8, random_state=4)\n",
    "trainY, testY = train_test_split(y, test_size=0.8, random_state=4)\n",
    "\n",
    "rf = RandomForestClassifier()\n",
    "rf.fit(trainX, trainY)\n",
    "y_pred = rf.predict(testX)\n",
    "accuracy = accuracy_score(testY, y_pred)\n",
    "print(f\"Initial Accuracy: {accuracy}\")"
   ]
  },
  {
   "cell_type": "code",
   "execution_count": 20,
   "metadata": {},
   "outputs": [
    {
     "data": {
      "text/plain": [
       "RandomizedSearchCV(cv=3, estimator=RandomForestClassifier(), n_iter=150,\n",
       "                   param_distributions={'max_depth': <scipy.stats._distn_infrastructure.rv_frozen object at 0x7f8d9f0e5f28>,\n",
       "                                        'n_estimators': <scipy.stats._distn_infrastructure.rv_frozen object at 0x7f8d998b3d30>})"
      ]
     },
     "execution_count": 20,
     "metadata": {},
     "output_type": "execute_result"
    }
   ],
   "source": [
    "param_dist = {'n_estimators': randint(50,500),\n",
    "              'max_depth': randint(1,20)}\n",
    "\n",
    "rf = RandomForestClassifier()\n",
    "\n",
    "rand_search = RandomizedSearchCV(rf,\n",
    "                                 param_distributions=param_dist,\n",
    "                                 n_iter=150,\n",
    "                                 cv=3)\n",
    "\n",
    "rand_search.fit(trainX, trainY)"
   ]
  },
  {
   "cell_type": "code",
   "execution_count": 21,
   "metadata": {},
   "outputs": [
    {
     "name": "stdout",
     "output_type": "stream",
     "text": [
      "Max Depth: 17, n_estimator: 71\n"
     ]
    }
   ],
   "source": [
    "cnt_md, cnt_esti = [int(i) for i in re.findall(string=str(rand_search.best_estimator_), pattern='[0-9]+')]\n",
    "print(f\"Max Depth: {cnt_md}, n_estimator: {cnt_esti}\")\n"
   ]
  },
  {
   "cell_type": "code",
   "execution_count": 22,
   "metadata": {},
   "outputs": [
    {
     "data": {
      "image/png": "[encoded data removed]",
      "text/plain": [
       "<Figure size 640x480 with 2 Axes>"
      ]
     },
     "metadata": {},
     "output_type": "display_data"
    }
   ],
   "source": [
    "y_pred = rand_search.predict(testX)\n",
    "\n",
    "cm = confusion_matrix(testY, y_pred)\n",
    "ConfusionMatrixDisplay(cm).plot();"
   ]
  },
  {
   "cell_type": "code",
   "execution_count": 23,
   "metadata": {},
   "outputs": [
    {
     "name": "stdout",
     "output_type": "stream",
     "text": [
      "Precision: 0.8260869565217391\n",
      "Accuracy: 0.8452380952380952\n",
      "Recall: 0.8837209302325582\n"
     ]
    }
   ],
   "source": [
    "precision = precision_score(testY, y_pred)\n",
    "accuracy = accuracy_score(testY, y_pred)\n",
    "recall = recall_score(testY, y_pred)\n",
    "\n",
    "print(f\"Precision: {precision}\\nAccuracy: {accuracy}\\nRecall: {recall}\")"
   ]
  },
  {
   "cell_type": "code",
   "execution_count": 24,
   "metadata": {},
   "outputs": [
    {
     "data": {
      "image/png": "[encoded data removed]",
      "text/plain": [
       "<Figure size 640x480 with 1 Axes>"
      ]
     },
     "metadata": {},
     "output_type": "display_data"
    }
   ],
   "source": [
    "rf = RandomForestClassifier(max_depth=cnt_md, n_estimators=cnt_esti).fit(trainX, trainY)\n",
    "feature_importances = pd.Series(rf.feature_importances_, index=trainX.columns).sort_values(ascending=False)\n",
    "\n",
    "feature_importances.plot.bar();"
   ]
  },
  {
   "cell_type": "code",
   "execution_count": 25,
   "metadata": {},
   "outputs": [
    {
     "name": "stdout",
     "output_type": "stream",
     "text": [
      "Precision: 0.8444\n",
      "Accuracy: 0.8571\n",
      "Recall: 0.8837\n"
     ]
    }
   ],
   "source": [
    "y_pred = rf.predict(testX)\n",
    "\n",
    "precision = precision_score(testY, y_pred).round(4)\n",
    "accuracy = accuracy_score(testY, y_pred).round(4)\n",
    "recall = recall_score(testY, y_pred).round(4)\n",
    "\n",
    "print(f\"Precision: {precision}\\nAccuracy: {accuracy}\\nRecall: {recall}\")"
   ]
  }
 ],
 "metadata": {
  "kernelspec": {
   "display_name": "venv",
   "language": "python",
   "name": "python3"
  },
  "language_info": {
   "codemirror_mode": {
    "name": "ipython",
    "version": 3
   },
   "file_extension": ".py",
   "mimetype": "text/x-python",
   "name": "python",
   "nbconvert_exporter": "python",
   "pygments_lexer": "ipython3",
   "version": "3.7.3"
  },
  "orig_nbformat": 4
 },
 "nbformat": 4,
 "nbformat_minor": 2
}
