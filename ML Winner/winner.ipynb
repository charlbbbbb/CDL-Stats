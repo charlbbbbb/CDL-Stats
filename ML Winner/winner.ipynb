{
 "cells": [
  {
   "cell_type": "code",
   "execution_count": 12,
   "metadata": {},
   "outputs": [],
   "source": [
    "import pandas as pd\n",
    "from predict_winner import read_in_all_matches\n",
    "\n",
    "def declare_winner(df: pd.DataFrame) -> pd.DataFrame:\n",
    "    df['map_winner'] = [\"host\" if a > b else \"guest\" for a, b in zip(df['matchGameResult.hostGameScore'], df['matchGameResult.guestGameScore'])]\n",
    "\n",
    "    df['is_winner'] = [\"Y\" if a == b else \"N\" for a, b in zip(df['map_winner'], df['team_type'])]\n",
    "\n",
    "    return df\n",
    "\n",
    "def head_to_head(data, main, opposition):\n",
    "    data = declare_winner(data)\n",
    "    grouping = {a: 'sum' for a in ['totalDamageDealt', 'totalKills', 'totalDeaths', 'totalFirstBloodKills', 'totalRotationKills', 'totalShotsHit', 'totalShotsFired']}\n",
    "    grouping2 = {b: 'first' for b in ['team_type', 'matchGameResult.guestGameScore', 'matchGameResult.hostGameScore']}\n",
    "    full_group = {**grouping , **grouping2}\n",
    "    group = data.groupby(['gameMap', 'oppo_abbrev', 'abbrev', 'gameMode', 'map_winner', 'matchGame.matchId']).agg(full_group)\n",
    "\n",
    "    group['rounds'] = group['matchGameResult.guestGameScore']+group['matchGameResult.hostGameScore']\n",
    "    group['teamKd'] = group['totalKills']/group['totalDeaths']\n",
    "    group['accuracy'] = group['totalShotsHit']/group['totalShotsFired']\n",
    "    group['rotationalPercent'] = group['totalRotationKills']/group['totalKills']\n",
    "    group['fbPerc'] = group['totalFirstBloodKills']/group['rounds']\n",
    "\n",
    "    group.reset_index(inplace=True)\n",
    "    group.drop(columns=['totalShotsHit', 'totalShotsFired', 'totalKills', 'totalDeaths', 'totalRotationKills', 'matchGameResult.hostGameScore', \n",
    "                        'matchGameResult.guestGameScore', 'totalFirstBloodKills'], inplace=True)\n",
    "    \n",
    "    data_opp = group[group['oppo_abbrev']==opposition]\n",
    "    data_opp = data_opp[data_opp['abbrev']== main]\n",
    "    data_opp2 = group[group['abbrev']==opposition]\n",
    "    data_opp2 = data_opp2[data_opp2['oppo_abbrev']== main].drop(columns=['oppo_abbrev', 'abbrev', 'team_type'])\n",
    "\n",
    "    joined = pd.merge(data_opp, data_opp2, on=['matchGame.matchId', 'gameMap', 'gameMode'], suffixes=('_team1', '_team2'))\n",
    "\n",
    "    snd_a = joined[joined['gameMode']=='CDL SnD'].drop(columns=['rotationalPercent_team1', 'rotationalPercent_team2'],\n",
    "                                                       axis=1).dropna(how='any', axis=0).groupby('gameMode').mean().drop('matchGame.matchId', axis=1)\n",
    "    hp_a = joined[joined['gameMode']=='CDL SnD'].drop(columns=['fbPerc_team1', 'fbPerc_team2'],\n",
    "                                                      axis=1).dropna(how='any', axis=0).groupby('gameMode').mean().drop('matchGame.matchId', axis=1)\n",
    "    control_a = joined[joined['gameMode']=='CDL Control'].drop(columns=['rotationalPercent_team1', 'rotationalPercent_team2', 'fbPerc_team1',\n",
    "                                                                        'fbPerc_team2'], axis=1).dropna(how='any', axis=0).groupby('gameMode').mean().drop('matchGame.matchId', axis=1)\n",
    "\n",
    "    data = read_in_all_matches()\n",
    "    data = declare_winner(data)\n",
    "    \n",
    "    home = data[data['abbrev']==main]\n",
    "    home = home[home['oppo_abbrev']!=opposition]\n",
    "    grouping = {a: 'sum' for a in ['totalDamageDealt', 'totalKills', 'totalDeaths', 'totalFirstBloodKills', 'totalRotationKills', 'totalShotsHit', 'totalShotsFired']}\n",
    "    grouping2 = {b: 'first' for b in ['team_type', 'matchGameResult.guestGameScore', 'matchGameResult.hostGameScore', 'matchGame.updatedAt']}\n",
    "    full_group = {**grouping , **grouping2}\n",
    "    group = home.groupby(['gameMap', 'oppo_abbrev', 'abbrev', 'gameMode', 'map_winner', 'matchGame.matchId']).agg(full_group)\n",
    "\n",
    "    group['rounds'] = group['matchGameResult.guestGameScore']+group['matchGameResult.hostGameScore']\n",
    "    group['teamKd'] = group['totalKills']/group['totalDeaths']\n",
    "    group['accuracy'] = group['totalShotsHit']/group['totalShotsFired']\n",
    "    group['rotationalPercent'] = group['totalRotationKills']/group['totalKills']\n",
    "    group['fbPerc'] = group['totalFirstBloodKills']/group['rounds']\n",
    "\n",
    "    group.reset_index(inplace=True)\n",
    "    group.drop(columns=['totalShotsHit', 'totalShotsFired', 'totalKills', 'totalDeaths', 'totalRotationKills', 'matchGameResult.hostGameScore', \n",
    "                        'matchGameResult.guestGameScore', 'totalFirstBloodKills', 'rounds', 'team_type', 'map_winner'], inplace=True)\n",
    "    group = group.sort_values('matchGame.updatedAt', ascending=False)\n",
    "    group = group[0:15]\n",
    "\n",
    "    snd = group[group['gameMode']=='CDL SnD'].drop(columns=['rotationalPercent'], \n",
    "                                                   axis=1).dropna(how='any', axis=0).groupby('gameMode').mean().drop(columns=['matchGame.matchId', 'matchGame.updatedAt'],\n",
    "                                                                                                                         axis=1)\n",
    "    hp = group[group['gameMode']=='CDL SnD'].drop(columns=['fbPerc'],\n",
    "                                                   axis=1).dropna(how='any', axis=0).groupby('gameMode').mean().drop(columns=['matchGame.matchId', 'matchGame.updatedAt'],\n",
    "                                                                                                                         axis=1)\n",
    "    control = group[group['gameMode']=='CDL Control'].drop(columns=['rotationalPercent',\n",
    "                                                                     'fbPerc'], axis=1).dropna(how='any', axis=0).groupby('gameMode').mean().drop(columns=['matchGame.matchId', 'matchGame.updatedAt'],\n",
    "                                                                                                                         axis=1)\n",
    "\n",
    "    home = data[data['abbrev']==opposition]\n",
    "    home = home[home['oppo_abbrev']!=main]\n",
    "    grouping = {a: 'sum' for a in ['totalDamageDealt', 'totalKills', 'totalDeaths', 'totalFirstBloodKills', 'totalRotationKills', 'totalShotsHit', 'totalShotsFired']}\n",
    "    grouping2 = {b: 'first' for b in ['team_type', 'matchGameResult.guestGameScore', 'matchGameResult.hostGameScore', 'matchGame.updatedAt']}\n",
    "    full_group = {**grouping , **grouping2}\n",
    "    group = home.groupby(['gameMap', 'oppo_abbrev', 'abbrev', 'gameMode', 'map_winner', 'matchGame.matchId']).agg(full_group)\n",
    "\n",
    "    group['rounds'] = group['matchGameResult.guestGameScore']+group['matchGameResult.hostGameScore']\n",
    "    group['teamKd'] = group['totalKills']/group['totalDeaths']\n",
    "    group['accuracy'] = group['totalShotsHit']/group['totalShotsFired']\n",
    "    group['rotationalPercent'] = group['totalRotationKills']/group['totalKills']\n",
    "    group['fbPerc'] = group['totalFirstBloodKills']/group['rounds']\n",
    "\n",
    "    group.reset_index(inplace=True)\n",
    "    group.drop(columns=['totalShotsHit', 'totalShotsFired', 'totalKills', 'totalDeaths', 'totalRotationKills', 'matchGameResult.hostGameScore', \n",
    "                        'matchGameResult.guestGameScore', 'totalFirstBloodKills', 'rounds', 'team_type', 'map_winner'], inplace=True)\n",
    "    group = group.sort_values('matchGame.updatedAt', ascending=False)\n",
    "    group = group[0:20]\n",
    "\n",
    "    snd_op = group[group['gameMode']=='CDL SnD'].drop(columns=['rotationalPercent'],\n",
    "                                                       axis=1).dropna(how='any', axis=0).groupby('gameMode').mean().drop(columns=['matchGame.matchId', 'matchGame.updatedAt'],\n",
    "                                                                                                                         axis=1)\n",
    "    hp_op = group[group['gameMode']=='CDL SnD'].drop(columns=['fbPerc'],\n",
    "                                                      axis=1).dropna(how='any', axis=0).groupby('gameMode').mean().drop(columns=['matchGame.matchId', 'matchGame.updatedAt'],\n",
    "                                                                                                                         axis=1)\n",
    "    control_op = group[group['gameMode']=='CDL Control'].drop(columns=['rotationalPercent',\n",
    "                                                                        'fbPerc'], axis=1).dropna(how='any', axis=0).groupby('gameMode').mean().drop(columns=['matchGame.matchId', 'matchGame.updatedAt'],\n",
    "                                                                                                                         axis=1)\n",
    "\n",
    "    snd_j = pd.merge(snd, snd_op, on='gameMode', suffixes=('_team1', '_team2'))\n",
    "    hp_j = pd.merge(hp, hp_op, on='gameMode', suffixes=('_team1', '_team2'))\n",
    "    control_j = pd.merge(control, control_op, on='gameMode', suffixes=('_team1', '_team2'))\n",
    "\n",
    "    search = pd.concat([snd_a, snd_j]).drop(columns=['rounds_team1', 'rounds_team2'], axis=1).groupby('gameMode').mean()\n",
    "    hard = pd.concat([hp_a, hp_j]).drop(columns=['rounds_team1', 'rounds_team2'], axis=1).groupby('gameMode').mean()\n",
    "    cntl = pd.concat([control_a, control_j]).drop(columns=['rounds_team1', 'rounds_team2'], axis=1).groupby('gameMode').mean()\n",
    "\n",
    "\n",
    "    return search, hard, cntl\n",
    "\n",
    "\n",
    "d = read_in_all_matches()\n",
    "s, h, c = head_to_head(d, \"MIN\", \"NY\")"
   ]
  },
  {
   "cell_type": "code",
   "execution_count": 16,
   "metadata": {},
   "outputs": [
    {
     "data": {
      "text/plain": [
       "array([1])"
      ]
     },
     "execution_count": 16,
     "metadata": {},
     "output_type": "execute_result"
    }
   ],
   "source": [
    "from predict_winner import hardpoint_model, control_model, snd_model\n",
    "\n",
    "\n",
    "hardpoint_model(h)"
   ]
  },
  {
   "cell_type": "code",
   "execution_count": 14,
   "metadata": {},
   "outputs": [
    {
     "data": {
      "text/plain": [
       "array([1])"
      ]
     },
     "execution_count": 14,
     "metadata": {},
     "output_type": "execute_result"
    }
   ],
   "source": [
    "control_model(c)"
   ]
  },
  {
   "cell_type": "code",
   "execution_count": 15,
   "metadata": {},
   "outputs": [
    {
     "data": {
      "text/plain": [
       "array([1])"
      ]
     },
     "execution_count": 15,
     "metadata": {},
     "output_type": "execute_result"
    }
   ],
   "source": [
    "snd_model(s)"
   ]
  }
 ],
 "metadata": {
  "kernelspec": {
   "display_name": "venv",
   "language": "python",
   "name": "python3"
  },
  "language_info": {
   "name": "python",
   "version": "3.7.3"
  },
  "orig_nbformat": 4
 },
 "nbformat": 4,
 "nbformat_minor": 2
}
