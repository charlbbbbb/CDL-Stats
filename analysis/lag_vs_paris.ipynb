{
 "cells": [
  {
   "attachments": {},
   "cell_type": "markdown",
   "metadata": {},
   "source": [
    "# Las Vegas Legion vs Los Angeles Guerillas\n",
    "\n",
    "#### Since LVL are playing LAG today and both played yesterday, I have decided to complete some analysis to identify who should win in which aspects of the match up.\n",
    "\n",
    "To begin with, the data will be scraped and saved for both temas previous matches using the match ID's obtained from the CDL website"
   ]
  },
  {
   "cell_type": "code",
   "execution_count": 22,
   "metadata": {},
   "outputs": [],
   "source": [
    "import pandas as pd\n",
    "import matplotlib.pyplot as plt\n",
    "import seaborn as sns\n",
    "import sys\n",
    "import os\n",
    "sys.path.insert(1, \"Machine Learning Practice\\CDL-Stats\\data_scraping\")"
   ]
  },
  {
   "attachments": {},
   "cell_type": "markdown",
   "metadata": {},
   "source": [
    "Now that I have linked the path to the scraper (Not Ideal :D Method) I can scrape the required data"
   ]
  },
  {
   "cell_type": "code",
   "execution_count": 25,
   "metadata": {},
   "outputs": [],
   "source": [
    "from data_scraping.cdl_scraper import parse_cdl_website as scraper\n",
    "\n",
    "lag_last_game = scraper(8740)\n",
    "lvl_last_game = scraper(8739)"
   ]
  },
  {
   "attachments": {},
   "cell_type": "markdown",
   "metadata": {},
   "source": [
    "Now that the data has been scraped, it can be read in from the save, rather than scraped each time it is needed\n"
   ]
  },
  {
   "cell_type": "code",
   "execution_count": 34,
   "metadata": {},
   "outputs": [
    {
     "name": "stdout",
     "output_type": "stream",
     "text": [
      "The map set for LAG's last game was [('Zarqwa Hydroelectric', 'CDL Hardpoint'), ('Mercado Las Almas', 'CDL SnD'), ('Breenbergh Hotel', 'CDL Control'), ('Al Bagra Fortress', 'CDL Hardpoint'), ('Embassy', 'CDL SnD')]\n"
     ]
    }
   ],
   "source": [
    "lag_df = pd.read_csv('data/cdl_8740.csv')\n",
    "lvl_df = pd.read_csv('data/cdl_8739.csv')\n",
    "\n",
    "mapset = [(a, b) for a, b in zip(lag_df['gameMap'], lag_df['gameMode'])]\n",
    "mapset = (list(dict.fromkeys(mapset)))\n",
    "print(f\"The map set for LAG's last game was {mapset}\")"
   ]
  },
  {
   "attachments": {},
   "cell_type": "markdown",
   "metadata": {},
   "source": [
    "To confirm that this is the right data, I have inspected the mapset and confirmed that it aligns with the correct CDL match"
   ]
  }
 ],
 "metadata": {
  "kernelspec": {
   "display_name": "venv",
   "language": "python",
   "name": "python3"
  },
  "language_info": {
   "codemirror_mode": {
    "name": "ipython",
    "version": 3
   },
   "file_extension": ".py",
   "mimetype": "text/x-python",
   "name": "python",
   "nbconvert_exporter": "python",
   "pygments_lexer": "ipython3",
   "version": "3.9.0"
  },
  "orig_nbformat": 4,
  "vscode": {
   "interpreter": {
    "hash": "5b6c2c376b91ef63cb502f68d05a98239f42de92cef1bc8aa2e553c8affee428"
   }
  }
 },
 "nbformat": 4,
 "nbformat_minor": 2
}
