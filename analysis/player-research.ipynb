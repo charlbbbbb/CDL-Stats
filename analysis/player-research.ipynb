{
 "cells": [
  {
   "attachments": {},
   "cell_type": "markdown",
   "metadata": {},
   "source": [
    "To begin with, the neccesary packages are imported"
   ]
  },
  {
   "cell_type": "code",
   "execution_count": 2,
   "metadata": {},
   "outputs": [
    {
     "ename": "ModuleNotFoundError",
     "evalue": "No module named 'sklearn'",
     "output_type": "error",
     "traceback": [
      "\u001b[0;31m---------------------------------------------------------------------------\u001b[0m",
      "\u001b[0;31mModuleNotFoundError\u001b[0m                       Traceback (most recent call last)",
      "\u001b[0;32m/var/folders/17/vpppp3bj61zf7czx0x_3swmw0000gn/T/ipykernel_3171/1070389294.py\u001b[0m in \u001b[0;36m<module>\u001b[0;34m\u001b[0m\n\u001b[1;32m      2\u001b[0m \u001b[0;32mimport\u001b[0m \u001b[0mnumpy\u001b[0m \u001b[0;32mas\u001b[0m \u001b[0mnp\u001b[0m\u001b[0;34m\u001b[0m\u001b[0;34m\u001b[0m\u001b[0m\n\u001b[1;32m      3\u001b[0m \u001b[0;32mimport\u001b[0m \u001b[0mmatplotlib\u001b[0m\u001b[0;34m.\u001b[0m\u001b[0mpyplot\u001b[0m \u001b[0;32mas\u001b[0m \u001b[0mplt\u001b[0m\u001b[0;34m\u001b[0m\u001b[0;34m\u001b[0m\u001b[0m\n\u001b[0;32m----> 4\u001b[0;31m \u001b[0;32mimport\u001b[0m \u001b[0msklearn\u001b[0m\u001b[0;34m\u001b[0m\u001b[0;34m\u001b[0m\u001b[0m\n\u001b[0m\u001b[1;32m      5\u001b[0m \u001b[0;34m\u001b[0m\u001b[0m\n\u001b[1;32m      6\u001b[0m \u001b[0mget_ipython\u001b[0m\u001b[0;34m(\u001b[0m\u001b[0;34m)\u001b[0m\u001b[0;34m.\u001b[0m\u001b[0mrun_line_magic\u001b[0m\u001b[0;34m(\u001b[0m\u001b[0;34m'matplotlib'\u001b[0m\u001b[0;34m,\u001b[0m \u001b[0;34m'inline'\u001b[0m\u001b[0;34m)\u001b[0m\u001b[0;34m\u001b[0m\u001b[0;34m\u001b[0m\u001b[0m\n",
      "\u001b[0;31mModuleNotFoundError\u001b[0m: No module named 'sklearn'"
     ]
    }
   ],
   "source": [
    "import pandas as pd\n",
    "import numpy as np\n",
    "import matplotlib.pyplot as plt\n",
    "import sklearn\n",
    "\n",
    "\n",
    "%matplotlib inline"
   ]
  },
  {
   "attachments": {},
   "cell_type": "markdown",
   "metadata": {},
   "source": [
    "Next, the data is read into a pandas dataframe"
   ]
  },
  {
   "cell_type": "code",
   "execution_count": null,
   "metadata": {},
   "outputs": [
    {
     "ename": "",
     "evalue": "",
     "output_type": "error",
     "traceback": [
      "\u001b[1;31mRunning cells with '/usr/bin/python3' requires ipykernel package.\n",
      "\u001b[1;31mRun the following command to install 'ipykernel' into the Python environment. \n",
      "\u001b[1;31mCommand: '/usr/bin/python3 -m pip install ipykernel -U --user --force-reinstall'"
     ]
    }
   ],
   "source": [
    "df = pd.read_csv(\"../data/player_stats-27-01-2023.csv\")\n",
    "print(f\"Data Shape is {df.shape}\")\n",
    "df.sample(10)"
   ]
  },
  {
   "attachments": {},
   "cell_type": "markdown",
   "metadata": {},
   "source": [
    "Next, I will check the data for any nulls"
   ]
  },
  {
   "cell_type": "code",
   "execution_count": null,
   "metadata": {},
   "outputs": [
    {
     "ename": "",
     "evalue": "",
     "output_type": "error",
     "traceback": [
      "\u001b[1;31mRunning cells with '/usr/bin/python3' requires ipykernel package.\n",
      "\u001b[1;31mRun the following command to install 'ipykernel' into the Python environment. \n",
      "\u001b[1;31mCommand: '/usr/bin/python3 -m pip install ipykernel -U --user --force-reinstall'"
     ]
    }
   ],
   "source": [
    "print(f\"There are {df.isna().sum().sum()} nulls in the dataset\")"
   ]
  },
  {
   "attachments": {},
   "cell_type": "markdown",
   "metadata": {},
   "source": [
    "Next I will look into the columns to understand the datatypes"
   ]
  },
  {
   "cell_type": "code",
   "execution_count": null,
   "metadata": {},
   "outputs": [
    {
     "ename": "",
     "evalue": "",
     "output_type": "error",
     "traceback": [
      "\u001b[1;31mRunning cells with '/usr/bin/python3' requires ipykernel package.\n",
      "\u001b[1;31mRun the following command to install 'ipykernel' into the Python environment. \n",
      "\u001b[1;31mCommand: '/usr/bin/python3 -m pip install ipykernel -U --user --force-reinstall'"
     ]
    }
   ],
   "source": [
    "df.info();"
   ]
  },
  {
   "attachments": {},
   "cell_type": "markdown",
   "metadata": {},
   "source": [
    "After establishing that `'snd_first_blood_rate'` is of the 'object' datatype (often used to represent strings in numpy arrays),\n",
    "I have learnt that I need to remove the % symbols from the end of the floating point number\n"
   ]
  },
  {
   "cell_type": "code",
   "execution_count": null,
   "metadata": {},
   "outputs": [
    {
     "ename": "",
     "evalue": "",
     "output_type": "error",
     "traceback": [
      "\u001b[1;31mRunning cells with '/usr/bin/python3' requires ipykernel package.\n",
      "\u001b[1;31mRun the following command to install 'ipykernel' into the Python environment. \n",
      "\u001b[1;31mCommand: '/usr/bin/python3 -m pip install ipykernel -U --user --force-reinstall'"
     ]
    }
   ],
   "source": [
    "df['snd_first_blood_rate'] = df['snd_first_blood_rate'].astype('string')\n",
    "df['snd_first_blood_rate'] = df['snd_first_blood_rate'].str.replace('%', '', regex=True)\n",
    "df['snd_first_blood_rate'] = df['snd_first_blood_rate'].astype(\"float\")\n",
    "\n",
    "print(f\"An example of a value in the columns snd_first_blood_rate is {df['snd_first_blood_rate'][1]}\");\n",
    "print(f\"The datatype of the column is now '{df['snd_first_blood_rate'].dtype}'\")"
   ]
  },
  {
   "cell_type": "code",
   "execution_count": null,
   "metadata": {},
   "outputs": [
    {
     "ename": "",
     "evalue": "",
     "output_type": "error",
     "traceback": [
      "\u001b[1;31mRunning cells with '/usr/bin/python3' requires ipykernel package.\n",
      "\u001b[1;31mRun the following command to install 'ipykernel' into the Python environment. \n",
      "\u001b[1;31mCommand: '/usr/bin/python3 -m pip install ipykernel -U --user --force-reinstall'"
     ]
    }
   ],
   "source": [
    "print(f\"The datsets columns are {df.columns.values}\")"
   ]
  },
  {
   "attachments": {},
   "cell_type": "markdown",
   "metadata": {},
   "source": [
    "It is useful to remove players who have a small number of maps played as it isn't a strong representation\n",
    "of long term performance"
   ]
  },
  {
   "cell_type": "code",
   "execution_count": null,
   "metadata": {},
   "outputs": [
    {
     "ename": "",
     "evalue": "",
     "output_type": "error",
     "traceback": [
      "\u001b[1;31mRunning cells with '/usr/bin/python3' requires ipykernel package.\n",
      "\u001b[1;31mRun the following command to install 'ipykernel' into the Python environment. \n",
      "\u001b[1;31mCommand: '/usr/bin/python3 -m pip install ipykernel -U --user --force-reinstall'"
     ]
    }
   ],
   "source": [
    "df['hp_maps_played'].value_counts().sort_index(ascending=True)"
   ]
  },
  {
   "attachments": {},
   "cell_type": "markdown",
   "metadata": {},
   "source": [
    "After looking at the data for matches played in hardpoints, I have decided to remove anyone with less than 10 maps played in hardpoint.\n",
    "This is being done under the assumption that players will still have a decent number of maps played in other gamemodes"
   ]
  },
  {
   "cell_type": "code",
   "execution_count": null,
   "metadata": {},
   "outputs": [
    {
     "ename": "",
     "evalue": "",
     "output_type": "error",
     "traceback": [
      "\u001b[1;31mRunning cells with '/usr/bin/python3' requires ipykernel package.\n",
      "\u001b[1;31mRun the following command to install 'ipykernel' into the Python environment. \n",
      "\u001b[1;31mCommand: '/usr/bin/python3 -m pip install ipykernel -U --user --force-reinstall'"
     ]
    }
   ],
   "source": [
    "df = df[df['hp_maps_played'] >= 10]\n",
    "df.reset_index(drop=True, inplace=True)\n",
    "df['hp_maps_played'].value_counts().sort_index(ascending=True)"
   ]
  },
  {
   "cell_type": "code",
   "execution_count": null,
   "metadata": {},
   "outputs": [
    {
     "ename": "",
     "evalue": "",
     "output_type": "error",
     "traceback": [
      "\u001b[1;31mRunning cells with '/usr/bin/python3' requires ipykernel package.\n",
      "\u001b[1;31mRun the following command to install 'ipykernel' into the Python environment. \n",
      "\u001b[1;31mCommand: '/usr/bin/python3 -m pip install ipykernel -U --user --force-reinstall'"
     ]
    }
   ],
   "source": [
    "df['snd_maps_played'].value_counts().sort_index(ascending=True)"
   ]
  },
  {
   "cell_type": "code",
   "execution_count": null,
   "metadata": {},
   "outputs": [
    {
     "ename": "",
     "evalue": "",
     "output_type": "error",
     "traceback": [
      "\u001b[1;31mRunning cells with '/usr/bin/python3' requires ipykernel package.\n",
      "\u001b[1;31mRun the following command to install 'ipykernel' into the Python environment. \n",
      "\u001b[1;31mCommand: '/usr/bin/python3 -m pip install ipykernel -U --user --force-reinstall'"
     ]
    }
   ],
   "source": [
    "df['control_maps_played'].value_counts().sort_index(ascending=True)"
   ]
  },
  {
   "attachments": {},
   "cell_type": "markdown",
   "metadata": {},
   "source": [
    "After removing players with <10 hardpoint maps played, the minimum number of maps played in one gamemode is 6 (control)"
   ]
  },
  {
   "cell_type": "code",
   "execution_count": null,
   "metadata": {},
   "outputs": [
    {
     "ename": "",
     "evalue": "",
     "output_type": "error",
     "traceback": [
      "\u001b[1;31mRunning cells with '/usr/bin/python3' requires ipykernel package.\n",
      "\u001b[1;31mRun the following command to install 'ipykernel' into the Python environment. \n",
      "\u001b[1;31mCommand: '/usr/bin/python3 -m pip install ipykernel -U --user --force-reinstall'"
     ]
    }
   ],
   "source": [
    "df[df['control_maps_played'] < 7]"
   ]
  },
  {
   "attachments": {},
   "cell_type": "markdown",
   "metadata": {},
   "source": [
    "These appear to be players who have recently been added to the LAG roster, after being promoted from the academy team (recent as of 27/01/2023)\n",
    "I feel like they haven't played 6 control maps as they haven't played 6 series in stage 2???\n",
    "This inaccuracy may be a result of challengers stats being counted. To increase the depth of the data however, they will still be included"
   ]
  },
  {
   "attachments": {},
   "cell_type": "markdown",
   "metadata": {},
   "source": [
    "To determine if my scaled data is accuracte in showing that a player is high in both categories, I need to look at the raw data"
   ]
  },
  {
   "cell_type": "code",
   "execution_count": null,
   "metadata": {},
   "outputs": [
    {
     "ename": "",
     "evalue": "",
     "output_type": "error",
     "traceback": [
      "\u001b[1;31mRunning cells with '/usr/bin/python3' requires ipykernel package.\n",
      "\u001b[1;31mRun the following command to install 'ipykernel' into the Python environment. \n",
      "\u001b[1;31mCommand: '/usr/bin/python3 -m pip install ipykernel -U --user --force-reinstall'"
     ]
    }
   ],
   "source": [
    "df['scaled'] = ((df['hp_kills_per_10']/df['hp_kills_per_10'].mean())+(df['avg_hp_hill_time']/df['avg_hp_hill_time'].mean()))/2\n",
    "df[['player', 'hp_kills_per_10', 'avg_hp_hill_time', 'scaled']].sort_values(by='scaled').style.background_gradient(cmap='coolwarm')"
   ]
  },
  {
   "attachments": {},
   "cell_type": "markdown",
   "metadata": {},
   "source": [
    "Looking at this, it is clear that the scaled data is succesfuly determining what players have a high average between both statlines.\n",
    "Some outcomes include:\n",
    "- Accuracy has low kills per ten minutes but makes up for it in hill time\n",
    "- JoeDeceives has the highest 'impact' in terms of having high hill time and kills per ten minutes\n",
    "- MajorManiak has the lowest, with low kills per ten minutes and lower hill time\n"
   ]
  },
  {
   "cell_type": "code",
   "execution_count": null,
   "metadata": {},
   "outputs": [
    {
     "ename": "",
     "evalue": "",
     "output_type": "error",
     "traceback": [
      "\u001b[1;31mRunning cells with '/usr/bin/python3' requires ipykernel package.\n",
      "\u001b[1;31mRun the following command to install 'ipykernel' into the Python environment. \n",
      "\u001b[1;31mCommand: '/usr/bin/python3 -m pip install ipykernel -U --user --force-reinstall'"
     ]
    }
   ],
   "source": [
    "#Create function to plot scatter graphs comparing two numerical columns\n",
    "#It weight them by multiplying both columns\n",
    "#This leads to higher values being red and lower columns being blue\n",
    "#Colours don't neccesarily correlate to good or bad\n",
    "#This is dependent on the data in the inputted columns\n",
    "\n",
    "def scatter_comparison(axis: plt.Axes, title: str , xcol: str, ycol: str, xlabel: str, ylabel: str,\n",
    "    show_min_max: bool = True, player_col: np.array = None, show_all_players: bool = False):\n",
    "    \"\"\"\n",
    "    Desc: This function plots two columns from the data into\n",
    "          a scatter plot on the axis provided\n",
    "    Params:\n",
    "        axis: the axis to draw the plot on\n",
    "        title: The title of the plot\n",
    "        xcol: the column to use as the x values in the plot\n",
    "        ycol: the column to use for y values\n",
    "        xlabel:\n",
    "        ylabel:\n",
    "        show_min_max: whether or not to plot the player names of the min and max players (from scaled data)\n",
    "        player_col: column containing player names\n",
    "    Return: None\n",
    "    \"\"\"\n",
    "    #Scale the data\n",
    "    #The scale is based on what percentage of the mean value a value makes up\n",
    "    #This is then averaged between the two datapoints\n",
    "    scaled_weight = ((xcol/xcol.mean())+(ycol/ycol.mean()))/2\n",
    "    axis.scatter(x=xcol, y=ycol, c=scaled_weight, cmap='coolwarm')\n",
    "    axis.set_title(f\"{title}\\nMIN: {player_col[(scaled_weight).argmin()]} | MAX: {player_col[(scaled_weight).argmax()]}\")\n",
    "    axis.set_xlabel(xlabel)\n",
    "    axis.set_ylabel(ylabel)\n",
    "    if show_all_players:\n",
    "        for i in range(len(player_col)):\n",
    "            axis.text(x=xcol[i], y=ycol[i], s=player_col[i], alpha=0.4)\n",
    "        min_player_index = (scaled_weight).argmin()\n",
    "        min_player = player_col[min_player_index]\n",
    "        axis.text(s=min_player, x=xcol[min_player_index], y=ycol[min_player_index])\n",
    "\n",
    "        max_player_index = (scaled_weight).argmax()\n",
    "        max_player = player_col[max_player_index]\n",
    "        axis.text(s=max_player, x=xcol[max_player_index], y=ycol[max_player_index])\n",
    "\n",
    "fig = plt.figure(figsize=(14, 14))\n",
    "plt.suptitle(\"CDL Hardpoint (Players) 2023\")\n",
    "((ax1, ax2), (ax3, ax4)) = fig.subplots(ncols=2, nrows=2, sharey=False)\n",
    "\n",
    "\n",
    "#Some example plots to test the func\n",
    "scatter_comparison(ax1, \"HP Kills per 10 Minutes vs Average HP Hill Time (Impact)\", df['hp_kills_per_10'], df['avg_hp_hill_time'],\n",
    "                \"HP Kills per 10 Minutes\", \"Average Hill Time\", False, df['player'], True)\n",
    "\n",
    "scatter_comparison(ax2, \"HP Damage per 10 Minutes vs Average HP Hill Time (Impact)\", df['hp_dmg_per_10'], df['avg_hp_hill_time'],\n",
    "                \"HP Damage per 10 Minutes\", \"Average Hill Time\", False, df['player'], True)\n",
    "\n",
    "scatter_comparison(ax3, \"HP Damage per 10 Minutes vs HP KD (Consistency)\", df['hp_dmg_per_10'], df['hp_kd'],\n",
    "                \"HP Damage per 10 Minutes\", \"HP KD\", False, df['player'], True)\n",
    "\n",
    "scatter_comparison(ax4, \"HP Kills per 10 Minutes vs HP KD\", df['hp_kills_per_10'], df['hp_kd'],\n",
    "                \"HP Kills per 10 Minutes\", \"HP KD\", False, df['player'], True)"
   ]
  },
  {
   "attachments": {},
   "cell_type": "markdown",
   "metadata": {},
   "source": [
    "After looking at some examples of hardpoint, I have decided to look at some SND examples.\n",
    "Data I've decided to plot includes:\n",
    "- SND first blood rate vs SND KD\n",
    "- SND kill per round vs SND KD (Should positively correlate)\n",
    "- SND KD vs Average Respawn KD (Should highlight players who excel in certain gamemodes)"
   ]
  },
  {
   "cell_type": "code",
   "execution_count": null,
   "metadata": {},
   "outputs": [
    {
     "ename": "",
     "evalue": "",
     "output_type": "error",
     "traceback": [
      "\u001b[1;31mRunning cells with '/usr/bin/python3' requires ipykernel package.\n",
      "\u001b[1;31mRun the following command to install 'ipykernel' into the Python environment. \n",
      "\u001b[1;31mCommand: '/usr/bin/python3 -m pip install ipykernel -U --user --force-reinstall'"
     ]
    }
   ],
   "source": [
    "#Create a new figure with 3 columns\n",
    "fig = plt.figure(figsize=(18, 7))\n",
    "(ax1, ax2, ax3) = fig.subplots(ncols=3)\n",
    "fig.suptitle(\"CDL SnD (Players) 2023\")\n",
    "\n",
    "#not really sure why the columns called snd_kd_rate, should be kd_ratio or just snd_kd\n",
    "scatter_comparison(ax1, \"First blood % vs KD Ratio\", df['snd_first_blood_rate'], df['snd_kd_rate'], \n",
    "                    \"First Blood %\", \"KD Ratio\", True, df['player'], True)\n",
    "\n",
    "scatter_comparison(ax2, \"Average Kills per Round vs KD Ratio\", df['snd_kill_per_round'], df['snd_kd_rate'],\n",
    "                     \"Average Kills per Round\", \"KD Ratio\", True, df['player'], True)\n",
    "\n",
    "respawn_average_kd = (df['control_kd']+df['hp_kd'])/2\n",
    "scatter_comparison(ax3, \"SnD KD vs Average Respawn KD\", df['snd_kd_rate'], respawn_average_kd, \n",
    "                    \"SnD KD\", \"Average Respawn KD\", True, df['player'], True)"
   ]
  },
  {
   "attachments": {},
   "cell_type": "markdown",
   "metadata": {},
   "source": [
    "Before adding a line for the league average onto the plots, I must first decide whether to use the mean or the median.\n",
    "To do this, I will plot the distributions for some columns in the df"
   ]
  },
  {
   "cell_type": "code",
   "execution_count": null,
   "metadata": {},
   "outputs": [
    {
     "ename": "",
     "evalue": "",
     "output_type": "error",
     "traceback": [
      "\u001b[1;31mRunning cells with '/usr/bin/python3' requires ipykernel package.\n",
      "\u001b[1;31mRun the following command to install 'ipykernel' into the Python environment. \n",
      "\u001b[1;31mCommand: '/usr/bin/python3 -m pip install ipykernel -U --user --force-reinstall'"
     ]
    }
   ],
   "source": [
    "from sklearn.preprocessing import normalize\n",
    "\n",
    "#Normalize the data so that it can be plotted on one graph and the distributions can be compared\n",
    "av_kd_norm = normalize(np.array([respawn_average_kd]))\n",
    "snd_kd_norm = normalize(np.array([df['snd_kd_rate']]))\n",
    "snd_kill_per_round_norm = normalize(np.array([df['snd_kill_per_round']]))\n",
    "\n",
    "#Plot the distributions\n",
    "pd.Series(av_kd_norm[0]).plot.density()\n",
    "pd.Series(snd_kd_norm[0]).plot.density()\n",
    "pd.Series(snd_kill_per_round_norm[0]).plot.density();"
   ]
  },
  {
   "attachments": {},
   "cell_type": "markdown",
   "metadata": {},
   "source": [
    "From this plot, we can see that the distribution is mostly symmetrical and not too skewed.\n",
    "This indicates that the mean can be used as an 'average' rather than a median"
   ]
  },
  {
   "cell_type": "code",
   "execution_count": null,
   "metadata": {},
   "outputs": [
    {
     "ename": "",
     "evalue": "",
     "output_type": "error",
     "traceback": [
      "\u001b[1;31mRunning cells with '/usr/bin/python3' requires ipykernel package.\n",
      "\u001b[1;31mRun the following command to install 'ipykernel' into the Python environment. \n",
      "\u001b[1;31mCommand: '/usr/bin/python3 -m pip install ipykernel -U --user --force-reinstall'"
     ]
    }
   ],
   "source": [
    "#While this is bad practice, and could be inserted into the scatter_comparison function, \n",
    "#I will create a new function to place the average onto the plots.\n",
    "#I have decided to create a new function for the flow of the notebook\n",
    "def show_average(axis: plt.Axes, y_data, x_data):\n",
    "    \"\"\"\n",
    "    Desc: This function plots lines indicating the league average.\n",
    "          This allows for players who are below the league average to be identified.\n",
    "    Params:\n",
    "        axis: The ax for the average to be drawn onto\n",
    "        x_data:\n",
    "        y_data:\n",
    "    Return:\n",
    "        None\n",
    "    \"\"\"\n",
    "    y_min = axis.get_ylim()[0]\n",
    "    x_mean = x_data.mean()\n",
    "    y_mean = y_data.mean()\n",
    "    x_min = axis.get_xlim()[0]\n",
    "\n",
    "    axis.set_ylim(y_min)\n",
    "    axis.set_xlim(x_min)\n",
    "\n",
    "    axis.plot([x_mean, x_mean], [y_min, y_mean], color='green', linestyle='dashed', label='League Average')\n",
    "    axis.plot([x_min, x_mean], [y_mean, y_mean], color='green', linestyle='dashed')\n",
    "    axis.legend()\n",
    "\n"
   ]
  },
  {
   "attachments": {},
   "cell_type": "markdown",
   "metadata": {},
   "source": [
    "Now that our function has been created, we can re-plot the original SnD data but this time with the league average drawn on"
   ]
  },
  {
   "cell_type": "code",
   "execution_count": null,
   "metadata": {},
   "outputs": [
    {
     "ename": "",
     "evalue": "",
     "output_type": "error",
     "traceback": [
      "\u001b[1;31mRunning cells with '/usr/bin/python3' requires ipykernel package.\n",
      "\u001b[1;31mRun the following command to install 'ipykernel' into the Python environment. \n",
      "\u001b[1;31mCommand: '/usr/bin/python3 -m pip install ipykernel -U --user --force-reinstall'"
     ]
    }
   ],
   "source": [
    "#Once again, this is repeated code.\n",
    "#This has however been left in for the continuity of the notebook\n",
    "fig = plt.figure(figsize=(18, 7))\n",
    "(ax1, ax2, ax3) = fig.subplots(ncols=3)\n",
    "fig.suptitle(\"CDL SnD (Players) 2023\")\n",
    "\n",
    "scatter_comparison(ax1, \"First blood % vs KD Ratio\", df['snd_first_blood_rate'], df['snd_kd_rate'], \n",
    "                    \"First Blood %\", \"KD Ratio\", True, df['player'], True)\n",
    "\n",
    "scatter_comparison(ax2, \"Average Kills per Round vs KD Ratio\", df['snd_kill_per_round'], df['snd_kd_rate'],\n",
    "                     \"Average Kills per Round\", \"KD Ratio\", True, df['player'], True)\n",
    "\n",
    "respawn_average_kd = (df['control_kd']+df['hp_kd'])/2\n",
    "scatter_comparison(ax3, \"SnD KD vs Average Respawn KD\", df['snd_kd_rate'], respawn_average_kd, \n",
    "                    \"SnD KD\", \"Average Respawn KD\", True, df['player'], True)\n",
    "\n",
    "show_average(ax1,  df['snd_kd_rate'], df['snd_first_blood_rate'])\n",
    "show_average(ax2, df['snd_kd_rate'], df['snd_kill_per_round'])\n",
    "show_average(ax3,  df['snd_kd_rate'], respawn_average_kd)\n"
   ]
  }
 ],
 "metadata": {
  "kernelspec": {
   "display_name": "venv",
   "language": "python",
   "name": "python3"
  },
  "language_info": {
   "codemirror_mode": {
    "name": "ipython",
    "version": 3
   },
   "file_extension": ".py",
   "mimetype": "text/x-python",
   "name": "python",
   "nbconvert_exporter": "python",
   "pygments_lexer": "ipython3",
   "version": "3.10.9 (tags/v3.10.9:1dd9be6, Dec  6 2022, 20:01:21) [MSC v.1934 64 bit (AMD64)]"
  },
  "orig_nbformat": 4,
  "vscode": {
   "interpreter": {
    "hash": "2a9eac82e9ce63fc84f93c81e1be5f4eaf4ade07d0f16c0dcdb1c54c25745bc7"
   }
  }
 },
 "nbformat": 4,
 "nbformat_minor": 2
}
