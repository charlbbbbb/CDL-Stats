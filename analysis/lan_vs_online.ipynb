{
 "cells": [
  {
   "cell_type": "code",
   "execution_count": 1,
   "metadata": {},
   "outputs": [],
   "source": [
    "import pandas as pd\n",
    "import matplotlib.pyplot as plt\n",
    "import numpy as np\n",
    "import seaborn as sns\n",
    "\n",
    "from cdl_link_scraper import get_links\n",
    "\n",
    "%matplotlib inline"
   ]
  },
  {
   "attachments": {},
   "cell_type": "markdown",
   "metadata": {},
   "source": [
    "Read in Major 3 Online"
   ]
  },
  {
   "cell_type": "code",
   "execution_count": 10,
   "metadata": {},
   "outputs": [
    {
     "name": "stdout",
     "output_type": "stream",
     "text": [
      "8719\n",
      "8720\n",
      "8721\n",
      "8722\n",
      "8723\n",
      "8749\n",
      "8724\n",
      "8725\n",
      "8726\n",
      "8727\n",
      "8728\n",
      "8729\n",
      "8730\n",
      "8731\n",
      "8732\n",
      "8733\n",
      "8734\n",
      "8736\n",
      "8737\n",
      "8735\n",
      "8738\n",
      "8739\n",
      "8740\n",
      "8741\n",
      "8742\n",
      "8743\n",
      "8744\n",
      "8745\n",
      "8746\n",
      "8747\n"
     ]
    },
    {
     "data": {
      "text/plain": [
       "(936, 95)"
      ]
     },
     "execution_count": 10,
     "metadata": {},
     "output_type": "execute_result"
    }
   ],
   "source": [
    "m3_online_df = pd.DataFrame()\n",
    "for i in get_links(\"https://www.callofdutyleague.com/en-us/schedule?utm_source=cdlweb&utm_medium=navigationbar&utm_campaign=general&stage=major3\"):\n",
    "    try:\n",
    "        m3_online_df = pd.concat([m3_online_df, pd.read_csv(f'../data/cdl_{i}.csv')])\n",
    "        print(i)\n",
    "    except:\n",
    "        print(i)\n",
    "\n",
    "m3_online_df['event'] = ['m3' for i in m3_online_df[m3_online_df.columns[0]]]\n",
    "m3_online_df['setting'] = ['online' for i in m3_online_df[m3_online_df.columns[0]]]\n",
    "\n",
    "m3_online_df.shape"
   ]
  },
  {
   "attachments": {},
   "cell_type": "markdown",
   "metadata": {},
   "source": [
    "Read in Major 2 Lan"
   ]
  },
  {
   "cell_type": "code",
   "execution_count": 9,
   "metadata": {},
   "outputs": [
    {
     "data": {
      "text/plain": [
       "(936, 95)"
      ]
     },
     "execution_count": 9,
     "metadata": {},
     "output_type": "execute_result"
    }
   ],
   "source": [
    "m2_lan_df = pd.DataFrame()\n",
    "for i in get_links(\"https://www.callofdutyleague.com/en-us/schedule?utm_source=cdlweb&utm_medium=navigationbar&utm_campaign=general&stage=major2\"):\n",
    "    try:\n",
    "        m2_lan_df= pd.concat([m2_lan_df, pd.read_csv(f'../data/cdl_{i}.csv')])\n",
    "    except:\n",
    "        pass\n",
    "\n",
    "m2_lan_df['event'] = ['m2' for i in m2_lan_df[m2_lan_df.columns[0]]]\n",
    "m2_lan_df['setting'] = ['lan' for i in m2_lan_df[m2_lan_df.columns[0]]]\n",
    "\n",
    "m2_lan_df.shape"
   ]
  },
  {
   "attachments": {},
   "cell_type": "markdown",
   "metadata": {},
   "source": [
    "Read in major 2 Online"
   ]
  },
  {
   "cell_type": "code",
   "execution_count": 8,
   "metadata": {},
   "outputs": [
    {
     "name": "stdout",
     "output_type": "stream",
     "text": [
      "8719\n",
      "8720\n",
      "8721\n",
      "8722\n",
      "8723\n",
      "8749\n",
      "8724\n",
      "8725\n",
      "8726\n",
      "8727\n",
      "8728\n",
      "8729\n",
      "8730\n",
      "8731\n",
      "8732\n",
      "8733\n",
      "8734\n",
      "8736\n",
      "8737\n",
      "8735\n",
      "8738\n",
      "8739\n",
      "8740\n",
      "8741\n",
      "8742\n",
      "8743\n",
      "8744\n",
      "8745\n",
      "8746\n",
      "8747\n"
     ]
    },
    {
     "data": {
      "text/plain": [
       "(936, 95)"
      ]
     },
     "execution_count": 8,
     "metadata": {},
     "output_type": "execute_result"
    }
   ],
   "source": [
    "m2_online_df = pd.DataFrame()\n",
    "for i in get_links(\"https://www.callofdutyleague.com/en-us/schedule?utm_source=cdlweb&utm_medium=navigationbar&utm_campaign=general&stage=major2\"):\n",
    "    try:\n",
    "        m2_online_df = pd.concat([m2_online_df, pd.read_csv(f'../data/cdl_{i}.csv')])\n",
    "    except:\n",
    "        print(i)\n",
    "\n",
    "m2_online_df['event'] = ['m3' for i in m2_online_df[m2_online_df.columns[0]]]\n",
    "m2_online_df['setting'] = ['online' for i in m2_online_df[m2_online_df.columns[0]]]\n",
    "\n",
    "m2_online_df.shape"
   ]
  }
 ],
 "metadata": {
  "kernelspec": {
   "display_name": "venv",
   "language": "python",
   "name": "python3"
  },
  "language_info": {
   "codemirror_mode": {
    "name": "ipython",
    "version": 3
   },
   "file_extension": ".py",
   "mimetype": "text/x-python",
   "name": "python",
   "nbconvert_exporter": "python",
   "pygments_lexer": "ipython3",
   "version": "3.7.3"
  },
  "orig_nbformat": 4,
  "vscode": {
   "interpreter": {
    "hash": "c9d9dd7fefa9853ac7b3a25faeb8a95ff089784964c3a6df917190aab23d03f0"
   }
  }
 },
 "nbformat": 4,
 "nbformat_minor": 2
}
